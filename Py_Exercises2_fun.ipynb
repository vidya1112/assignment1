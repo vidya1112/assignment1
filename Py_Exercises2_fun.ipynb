{
 "cells": [
  {
   "cell_type": "code",
   "execution_count": null,
   "id": "d0c53aea-3ffb-4fdb-b360-559ddaf3b337",
   "metadata": {},
   "outputs": [],
   "source": [
    "Problem Description:\n",
    "You are given a temperature in Celsius. Your task is to convert it to Fahrenheit and return the result.\n",
    "Formula :\n",
    "To convert Celsius to Fahrenheit, use the formula:\n",
    "\n",
    "F = (9/5 * C) + 32\n",
    "\n",
    "Where F is the temperature in Fahrenheit and C is the temperature in Celsius.\n",
    "\n",
    "Input :\n",
    "\n",
    "A floating-point number C representing the temperature in Celsius.\n",
    "\n",
    "Output :\n",
    "\n",
    "A floating-point number representing the temperature in Fahrenheit.\n",
    "\n",
    "Example :\n",
    "\n",
    "Input: C = 25 Output: 77.0\n",
    "\n",
    "Input: C = 0 Output: 32.0"
   ]
  },
  {
   "cell_type": "code",
   "execution_count": 5,
   "id": "e0231cba-1dac-4632-a983-1453eb51188c",
   "metadata": {},
   "outputs": [
    {
     "name": "stdin",
     "output_type": "stream",
     "text": [
      "Input: C = 0\n"
     ]
    },
    {
     "name": "stdout",
     "output_type": "stream",
     "text": [
      "Output:F = 32.0\n"
     ]
    }
   ],
   "source": [
    "c=input(\"Input: C =\")\n",
    "f=((9/5)*float(c))+32\n",
    "print(\"Output:F =\",f)"
   ]
  },
  {
   "cell_type": "code",
   "execution_count": 15,
   "id": "a43424fa-a3ab-4984-91f6-9ceffcab764a",
   "metadata": {},
   "outputs": [],
   "source": [
    "import tkinter\n",
    "from tkinter import *\n",
    "window=Tk()\n",
    "def convert_fun():\n",
    "    f=((9/5)*float(e1_value.get()))+32\n",
    "    t1.delete(\"0.1\",END)\n",
    "    t1.insert(END,f)\n",
    "    \n",
    "l1=Label(window,text=\"Enter the Temperature in Celsius:\",font=20,foreground='blue')\n",
    "l1.grid(row=0,column=0)\n",
    "l2=Label(window,text=\"The Temperature in Fahrenheit:\",font=20,foreground='blue')\n",
    "l2.grid(row=1,column=0)\n",
    "\n",
    "t1=Text(window,height=2,width=12)\n",
    "t1.grid(row=0,column=1)\n",
    "\n",
    "e1_value=StringVar()\n",
    "t2=Entry(window,textvariable=e1_value,width=12)\n",
    "t2.grid(row=1,column=1)\n",
    "\n",
    "b1=Button(window,text=\"C to F\",command=convert_fun,font=\"15\",foreground='blue',background='gray')\n",
    "b1.grid(row=0,column=3)\n",
    "\n",
    "window.mainloop()"
   ]
  },
  {
   "cell_type": "code",
   "execution_count": 11,
   "id": "efb9350c-b9cc-4a93-9aa8-1650f3299b33",
   "metadata": {},
   "outputs": [
    {
     "data": {
      "text/plain": [
       "''"
      ]
     },
     "execution_count": 11,
     "metadata": {},
     "output_type": "execute_result"
    }
   ],
   "source": [
    "e1_value.get()"
   ]
  },
  {
   "cell_type": "code",
   "execution_count": null,
   "id": "4520f023-3cb8-4d2d-b980-b00e7aeaa912",
   "metadata": {},
   "outputs": [],
   "source": [
    "#Problem Description:\n",
    "You are given the length and breadth of a rectangle. Your task is to compute and return the area of the rectangle.\n",
    "Formula :\n",
    "\n",
    "To calculate the area of a rectangle:\n",
    "\n",
    "Area=length×breadth\n",
    "\n",
    "Input :\n",
    "\n",
    "Two floating-point numbers, length and breadth, representing the dimensions of the rectangle.\n",
    "\n",
    "Output :\n",
    "\n",
    "A floating-point number representing the area of the rectangle.\n",
    "\n",
    "Example :\n",
    "\n",
    "Input: length = 5, breadth = 3 Output: 15.0\n",
    "\n",
    "Input: length = 7.5, breadth = 2.4 Output: 18.0"
   ]
  },
  {
   "cell_type": "code",
   "execution_count": 7,
   "id": "6621473f-1e50-4882-8586-e6aa563f7df6",
   "metadata": {},
   "outputs": [
    {
     "name": "stdin",
     "output_type": "stream",
     "text": [
      "Input: length =  7.5\n",
      "Input: breadth =  2.4\n"
     ]
    },
    {
     "name": "stdout",
     "output_type": "stream",
     "text": [
      "Output:  18.0\n"
     ]
    }
   ],
   "source": [
    "l=input(\"Input: length = \")\n",
    "b=input(\"Input: breadth = \")\n",
    "area=float(l)*float(b)\n",
    "print(\"Output: \",area)"
   ]
  },
  {
   "cell_type": "code",
   "execution_count": 15,
   "id": "36e21db5-9f64-4964-b420-b333cfa32bcf",
   "metadata": {},
   "outputs": [
    {
     "name": "stdin",
     "output_type": "stream",
     "text": [
      "Input: length =  7.5\n",
      "Input: breadth =  2.4\n"
     ]
    },
    {
     "name": "stdout",
     "output_type": "stream",
     "text": [
      "Output:  18.0\n"
     ]
    }
   ],
   "source": [
    "l=input(\"Input: length = \")\n",
    "b=input(\"Input: breadth = \")\n",
    "def area_fun(l,b):\n",
    "    area=float(l)*float(b)\n",
    "print (\"Output: \",area)\n"
   ]
  },
  {
   "cell_type": "code",
   "execution_count": null,
   "id": "a4f83661-b516-4854-a07d-b1dd4bd79999",
   "metadata": {},
   "outputs": [],
   "source": [
    "#Problem Description:\n",
    "You are given the speed of a vehicle and the time it has traveled. Your task is to compute and return the distance traveled by the vehicle.\n",
    "Formula :\n",
    "\n",
    "To calculate the distance traveled by a vehicle:\n",
    "\n",
    "Distance=Speed×Time\n",
    "\n",
    "Input :\n",
    "\n",
    "Two floating-point numbers, speed and time, representing the speed of the vehicle and the time it has been traveling.\n",
    "\n",
    "Output :\n",
    "\n",
    "A floating-point number representing the distance traveled.\n",
    "\n",
    "Example :\n",
    "\n",
    "Input: speed = 60, time = 2 Output: 120.0\n",
    "\n",
    "Input: speed = 50.5, time = 1.5 Output: 75.75"
   ]
  },
  {
   "cell_type": "code",
   "execution_count": 67,
   "id": "98ea5f05-933e-416b-a1ed-5318c83ddb79",
   "metadata": {},
   "outputs": [
    {
     "name": "stdin",
     "output_type": "stream",
     "text": [
      "Enter the Speed of the vehicle:  50.5\n",
      "Enter the time it has been traveling: 1.5\n"
     ]
    },
    {
     "name": "stdout",
     "output_type": "stream",
     "text": [
      "Total distance traveled:  75.75\n"
     ]
    }
   ],
   "source": [
    "s=input(\"Enter the Speed of the vehicle: \")\n",
    "t=input(\"Enter the time it has been traveling:\")\n",
    "d=(float(s))*(float(t))\n",
    "print(\"Total distance traveled: \",d)"
   ]
  },
  {
   "cell_type": "code",
   "execution_count": 9,
   "id": "dfb99e8f-4291-4ff8-aae3-0bf3167d6cb1",
   "metadata": {},
   "outputs": [
    {
     "name": "stdin",
     "output_type": "stream",
     "text": [
      "Enter the Speed of the vehicle:  60\n",
      "Enter the time it has been traveling: 2\n"
     ]
    }
   ],
   "source": [
    "speed=input(\"Enter the Speed of the vehicle: \")\n",
    "time=input(\"Enter the time it has been traveling:\")\n",
    "def distance_fun(self,speed,time):\n",
    "    dist=(float(speed))*(float(time))\n",
    "print(\"Total distance traveled:\",dist)"
   ]
  },
  {
   "cell_type": "code",
   "execution_count": null,
   "id": "1ecf822a-7683-4d57-9b03-1ffb1b40e3f2",
   "metadata": {},
   "outputs": [],
   "source": [
    "##"
   ]
  },
  {
   "cell_type": "code",
   "execution_count": 17,
   "id": "bc2b1938-01c2-4edf-b5d5-ab75ee609e9d",
   "metadata": {},
   "outputs": [
    {
     "data": {
      "text/plain": [
       "'C:\\\\Users\\\\Dnyan'"
      ]
     },
     "execution_count": 17,
     "metadata": {},
     "output_type": "execute_result"
    }
   ],
   "source": [
    "pwd"
   ]
  },
  {
   "cell_type": "code",
   "execution_count": null,
   "id": "66465872-1a38-41fe-86a6-03a152df4f63",
   "metadata": {},
   "outputs": [],
   "source": []
  },
  {
   "cell_type": "code",
   "execution_count": null,
   "id": "d21f6c1d-087d-4bc1-b09e-5677b56abe79",
   "metadata": {},
   "outputs": [],
   "source": []
  }
 ],
 "metadata": {
  "kernelspec": {
   "display_name": "Python 3 (ipykernel)",
   "language": "python",
   "name": "python3"
  },
  "language_info": {
   "codemirror_mode": {
    "name": "ipython",
    "version": 3
   },
   "file_extension": ".py",
   "mimetype": "text/x-python",
   "name": "python",
   "nbconvert_exporter": "python",
   "pygments_lexer": "ipython3",
   "version": "3.12.7"
  }
 },
 "nbformat": 4,
 "nbformat_minor": 5
}
